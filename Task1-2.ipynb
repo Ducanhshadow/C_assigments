{
  "nbformat": 4,
  "nbformat_minor": 0,
  "metadata": {
    "colab": {
      "provenance": [],
      "include_colab_link": true
    },
    "kernelspec": {
      "name": "python3",
      "display_name": "Python 3"
    },
    "language_info": {
      "name": "python"
    }
  },
  "cells": [
    {
      "cell_type": "markdown",
      "metadata": {
        "id": "view-in-github",
        "colab_type": "text"
      },
      "source": [
        "<a href=\"https://colab.research.google.com/github/Ducanhshadow/C_assigments/blob/main/Task1-2.ipynb\" target=\"_parent\"><img src=\"https://colab.research.google.com/assets/colab-badge.svg\" alt=\"Open In Colab\"/></a>"
      ]
    },
    {
      "cell_type": "markdown",
      "source": [
        "# Read data"
      ],
      "metadata": {
        "id": "1yUGJkUdBsQL"
      }
    },
    {
      "cell_type": "code",
      "source": [
        "!gdown --id 1NlyCS-fuTsupwHDcYx0ecpnsTAi5Ls6V"
      ],
      "metadata": {
        "id": "MiibACodzird",
        "colab": {
          "base_uri": "https://localhost:8080/"
        },
        "outputId": "8930c8ad-f59e-4744-894a-8e55da9ca583"
      },
      "execution_count": 2,
      "outputs": [
        {
          "output_type": "stream",
          "name": "stdout",
          "text": [
            "/usr/local/lib/python3.10/dist-packages/gdown/cli.py:121: FutureWarning: Option `--id` was deprecated in version 4.3.1 and will be removed in 5.0. You don't need to pass it anymore to use a file ID.\n",
            "  warnings.warn(\n",
            "Downloading...\n",
            "From: https://drive.google.com/uc?id=1NlyCS-fuTsupwHDcYx0ecpnsTAi5Ls6V\n",
            "To: /content/Real_estate.csv\n",
            "100% 22.0k/22.0k [00:00<00:00, 73.1MB/s]\n"
          ]
        }
      ]
    },
    {
      "cell_type": "code",
      "source": [
        "import numpy as np\n",
        "# Load data\n",
        "data = np.genfromtxt('Real_estate.csv', delimiter=',')\n",
        "data = data[1:] # xóa header\n",
        "data = data[:, 1:]\n",
        "print(data.shape)\n",
        "\n",
        "X = data[:, :-1]\n",
        "y = data[:, -1]"
      ],
      "metadata": {
        "colab": {
          "base_uri": "https://localhost:8080/"
        },
        "id": "y9NmxD4Aw2CO",
        "outputId": "d50df144-2949-4092-bf2d-27e80da2459a"
      },
      "execution_count": 3,
      "outputs": [
        {
          "output_type": "stream",
          "name": "stdout",
          "text": [
            "(414, 7)\n"
          ]
        }
      ]
    },
    {
      "cell_type": "code",
      "source": [
        "print(X.shape)\n",
        "print(y.shape)"
      ],
      "metadata": {
        "colab": {
          "base_uri": "https://localhost:8080/"
        },
        "id": "W-vRFRfGxmkt",
        "outputId": "feaae2f0-ab21-447c-8766-45fe08ce26b7"
      },
      "execution_count": 4,
      "outputs": [
        {
          "output_type": "stream",
          "name": "stdout",
          "text": [
            "(414, 6)\n",
            "(414,)\n"
          ]
        }
      ]
    },
    {
      "cell_type": "markdown",
      "source": [
        "# Train linear Regression"
      ],
      "metadata": {
        "id": "XgKSmQns0o1Z"
      }
    },
    {
      "cell_type": "markdown",
      "source": [
        "Ở đây code mẫu đã sử dụng thư viện Sklearn và dùng LinearRegression train model. **Anh chị hãy thay thế phần training này bằng kiến thức đã học trên lớp (Training với 1-sample, m-samples hoặc N-samples)** và đối chiếu kết quả ở phần Evaluation.\n"
      ],
      "metadata": {
        "id": "BPO6-uPl07Aq"
      }
    },
    {
      "cell_type": "code",
      "source": [
        "from sklearn.model_selection import train_test_split\n",
        "# chia data\n",
        "X_train, X_test, y_train, y_test = train_test_split(X, y, test_size=0.3, random_state=42)\n"
      ],
      "metadata": {
        "id": "zVZSa6mfx9OD"
      },
      "execution_count": null,
      "outputs": []
    },
    {
      "cell_type": "code",
      "source": [
        "Train = {\n",
        "    'X1 transaction date': X_train[:, 0],\n",
        "    'X2 house age': X_train[:, 1],\n",
        "    'X3 distance to the nearest MRT station': X_train[:, 2],\n",
        "    'X4 number of convenience stores': X_train[:, 3],\n",
        "    'X5 latitude': X_train[:, 4],\n",
        "    'X6 longitude': X_train[:, 5],\n",
        "    'Y house price of unit area': y_train\n",
        "}\n",
        "\n",
        "# Create the DataFrame using the dictionary\n",
        "df_train = pd.DataFrame(Train)\n",
        "\n",
        "# Print the DataFrame\n",
        "df_train.head()"
      ],
      "metadata": {
        "id": "yFVpgG6VjTnD",
        "outputId": "333d5c32-fe31-415d-92a6-d5ec8764d56f",
        "colab": {
          "base_uri": "https://localhost:8080/",
          "height": 302
        }
      },
      "execution_count": 33,
      "outputs": [
        {
          "output_type": "execute_result",
          "data": {
            "text/plain": [
              "   X1 transaction date  X2 house age  X3 distance to the nearest MRT station  \\\n",
              "0             2013.417          20.3                               287.60250   \n",
              "1             2013.500          15.2                              3771.89500   \n",
              "2             2012.667           1.5                                23.38284   \n",
              "3             2012.833          13.9                              4573.77900   \n",
              "4             2012.833          15.0                              1828.31900   \n",
              "\n",
              "   X4 number of convenience stores  X5 latitude  X6 longitude  \\\n",
              "0                              6.0     24.98042     121.54228   \n",
              "1                              0.0     24.93363     121.51158   \n",
              "2                              7.0     24.96772     121.54102   \n",
              "3                              0.0     24.94867     121.49507   \n",
              "4                              2.0     24.96464     121.51531   \n",
              "\n",
              "   Y house price of unit area  \n",
              "0                        46.7  \n",
              "1                        29.3  \n",
              "2                        47.7  \n",
              "3                        19.2  \n",
              "4                        20.9  "
            ],
            "text/html": [
              "\n",
              "  <div id=\"df-8f3f363e-ed9f-482c-9315-dea36a36659e\">\n",
              "    <div class=\"colab-df-container\">\n",
              "      <div>\n",
              "<style scoped>\n",
              "    .dataframe tbody tr th:only-of-type {\n",
              "        vertical-align: middle;\n",
              "    }\n",
              "\n",
              "    .dataframe tbody tr th {\n",
              "        vertical-align: top;\n",
              "    }\n",
              "\n",
              "    .dataframe thead th {\n",
              "        text-align: right;\n",
              "    }\n",
              "</style>\n",
              "<table border=\"1\" class=\"dataframe\">\n",
              "  <thead>\n",
              "    <tr style=\"text-align: right;\">\n",
              "      <th></th>\n",
              "      <th>X1 transaction date</th>\n",
              "      <th>X2 house age</th>\n",
              "      <th>X3 distance to the nearest MRT station</th>\n",
              "      <th>X4 number of convenience stores</th>\n",
              "      <th>X5 latitude</th>\n",
              "      <th>X6 longitude</th>\n",
              "      <th>Y house price of unit area</th>\n",
              "    </tr>\n",
              "  </thead>\n",
              "  <tbody>\n",
              "    <tr>\n",
              "      <th>0</th>\n",
              "      <td>2013.417</td>\n",
              "      <td>20.3</td>\n",
              "      <td>287.60250</td>\n",
              "      <td>6.0</td>\n",
              "      <td>24.98042</td>\n",
              "      <td>121.54228</td>\n",
              "      <td>46.7</td>\n",
              "    </tr>\n",
              "    <tr>\n",
              "      <th>1</th>\n",
              "      <td>2013.500</td>\n",
              "      <td>15.2</td>\n",
              "      <td>3771.89500</td>\n",
              "      <td>0.0</td>\n",
              "      <td>24.93363</td>\n",
              "      <td>121.51158</td>\n",
              "      <td>29.3</td>\n",
              "    </tr>\n",
              "    <tr>\n",
              "      <th>2</th>\n",
              "      <td>2012.667</td>\n",
              "      <td>1.5</td>\n",
              "      <td>23.38284</td>\n",
              "      <td>7.0</td>\n",
              "      <td>24.96772</td>\n",
              "      <td>121.54102</td>\n",
              "      <td>47.7</td>\n",
              "    </tr>\n",
              "    <tr>\n",
              "      <th>3</th>\n",
              "      <td>2012.833</td>\n",
              "      <td>13.9</td>\n",
              "      <td>4573.77900</td>\n",
              "      <td>0.0</td>\n",
              "      <td>24.94867</td>\n",
              "      <td>121.49507</td>\n",
              "      <td>19.2</td>\n",
              "    </tr>\n",
              "    <tr>\n",
              "      <th>4</th>\n",
              "      <td>2012.833</td>\n",
              "      <td>15.0</td>\n",
              "      <td>1828.31900</td>\n",
              "      <td>2.0</td>\n",
              "      <td>24.96464</td>\n",
              "      <td>121.51531</td>\n",
              "      <td>20.9</td>\n",
              "    </tr>\n",
              "  </tbody>\n",
              "</table>\n",
              "</div>\n",
              "      <button class=\"colab-df-convert\" onclick=\"convertToInteractive('df-8f3f363e-ed9f-482c-9315-dea36a36659e')\"\n",
              "              title=\"Convert this dataframe to an interactive table.\"\n",
              "              style=\"display:none;\">\n",
              "        \n",
              "  <svg xmlns=\"http://www.w3.org/2000/svg\" height=\"24px\"viewBox=\"0 0 24 24\"\n",
              "       width=\"24px\">\n",
              "    <path d=\"M0 0h24v24H0V0z\" fill=\"none\"/>\n",
              "    <path d=\"M18.56 5.44l.94 2.06.94-2.06 2.06-.94-2.06-.94-.94-2.06-.94 2.06-2.06.94zm-11 1L8.5 8.5l.94-2.06 2.06-.94-2.06-.94L8.5 2.5l-.94 2.06-2.06.94zm10 10l.94 2.06.94-2.06 2.06-.94-2.06-.94-.94-2.06-.94 2.06-2.06.94z\"/><path d=\"M17.41 7.96l-1.37-1.37c-.4-.4-.92-.59-1.43-.59-.52 0-1.04.2-1.43.59L10.3 9.45l-7.72 7.72c-.78.78-.78 2.05 0 2.83L4 21.41c.39.39.9.59 1.41.59.51 0 1.02-.2 1.41-.59l7.78-7.78 2.81-2.81c.8-.78.8-2.07 0-2.86zM5.41 20L4 18.59l7.72-7.72 1.47 1.35L5.41 20z\"/>\n",
              "  </svg>\n",
              "      </button>\n",
              "      \n",
              "  <style>\n",
              "    .colab-df-container {\n",
              "      display:flex;\n",
              "      flex-wrap:wrap;\n",
              "      gap: 12px;\n",
              "    }\n",
              "\n",
              "    .colab-df-convert {\n",
              "      background-color: #E8F0FE;\n",
              "      border: none;\n",
              "      border-radius: 50%;\n",
              "      cursor: pointer;\n",
              "      display: none;\n",
              "      fill: #1967D2;\n",
              "      height: 32px;\n",
              "      padding: 0 0 0 0;\n",
              "      width: 32px;\n",
              "    }\n",
              "\n",
              "    .colab-df-convert:hover {\n",
              "      background-color: #E2EBFA;\n",
              "      box-shadow: 0px 1px 2px rgba(60, 64, 67, 0.3), 0px 1px 3px 1px rgba(60, 64, 67, 0.15);\n",
              "      fill: #174EA6;\n",
              "    }\n",
              "\n",
              "    [theme=dark] .colab-df-convert {\n",
              "      background-color: #3B4455;\n",
              "      fill: #D2E3FC;\n",
              "    }\n",
              "\n",
              "    [theme=dark] .colab-df-convert:hover {\n",
              "      background-color: #434B5C;\n",
              "      box-shadow: 0px 1px 3px 1px rgba(0, 0, 0, 0.15);\n",
              "      filter: drop-shadow(0px 1px 2px rgba(0, 0, 0, 0.3));\n",
              "      fill: #FFFFFF;\n",
              "    }\n",
              "  </style>\n",
              "\n",
              "      <script>\n",
              "        const buttonEl =\n",
              "          document.querySelector('#df-8f3f363e-ed9f-482c-9315-dea36a36659e button.colab-df-convert');\n",
              "        buttonEl.style.display =\n",
              "          google.colab.kernel.accessAllowed ? 'block' : 'none';\n",
              "\n",
              "        async function convertToInteractive(key) {\n",
              "          const element = document.querySelector('#df-8f3f363e-ed9f-482c-9315-dea36a36659e');\n",
              "          const dataTable =\n",
              "            await google.colab.kernel.invokeFunction('convertToInteractive',\n",
              "                                                     [key], {});\n",
              "          if (!dataTable) return;\n",
              "\n",
              "          const docLinkHtml = 'Like what you see? Visit the ' +\n",
              "            '<a target=\"_blank\" href=https://colab.research.google.com/notebooks/data_table.ipynb>data table notebook</a>'\n",
              "            + ' to learn more about interactive tables.';\n",
              "          element.innerHTML = '';\n",
              "          dataTable['output_type'] = 'display_data';\n",
              "          await google.colab.output.renderOutput(dataTable, element);\n",
              "          const docLink = document.createElement('div');\n",
              "          docLink.innerHTML = docLinkHtml;\n",
              "          element.appendChild(docLink);\n",
              "        }\n",
              "      </script>\n",
              "    </div>\n",
              "  </div>\n",
              "  "
            ]
          },
          "metadata": {},
          "execution_count": 33
        }
      ]
    },
    {
      "cell_type": "code",
      "source": [
        "print(X_train.shape, y_train.shape)\n",
        "print(X_test.shape, y_test.shape)\n",
        "import pandas as pd\n",
        "dfX_train = pd.DataFrame(X_train)\n",
        "dfY_train = pd.DataFrame(y_train)\n",
        "df_train = pd.DataFrame(Train)"
      ],
      "metadata": {
        "id": "4CPiZ2FRyE6j"
      },
      "execution_count": null,
      "outputs": []
    },
    {
      "cell_type": "code",
      "source": [
        "from sklearn.linear_model import LinearRegression\n",
        "# Train model\n",
        "reg = LinearRegression().fit(X_train, y_train)\n",
        "print(reg)"
      ],
      "metadata": {
        "id": "zTYAcM0_ywkE",
        "colab": {
          "base_uri": "https://localhost:8080/"
        },
        "outputId": "99a627c2-5df0-49d2-94c9-98fae563606c"
      },
      "execution_count": 9,
      "outputs": [
        {
          "output_type": "stream",
          "name": "stdout",
          "text": [
            "LinearRegression()\n"
          ]
        }
      ]
    },
    {
      "cell_type": "code",
      "source": [
        "# Predict model\n",
        "list_predict = []\n",
        "for data_point in X_test:\n",
        "  list_predict.append(reg.predict(data_point.reshape(1, -1))[0])\n",
        "\n",
        "np_predict = np.array(list_predict)\n",
        "print(np_predict)"
      ],
      "metadata": {
        "id": "7VE2nJepy88U"
      },
      "execution_count": null,
      "outputs": []
    },
    {
      "cell_type": "markdown",
      "source": [
        "Correlation"
      ],
      "metadata": {
        "id": "eNNfCrJ6bfNd"
      }
    },
    {
      "cell_type": "code",
      "source": [
        "import matplotlib.pyplot as plt\n",
        "plt.scatter(dfX_train[0], dfY_train[0])\n",
        "plt.xlabel('transaction date')\n",
        "plt.ylabel('price')\n",
        "plt.show()\n",
        "plt.scatter(dfX_train[1], dfY_train[0])\n",
        "plt.xlabel('house age')\n",
        "plt.ylabel('price')\n",
        "plt.show()\n",
        "plt.scatter(dfX_train[2], dfY_train[0])\n",
        "plt.xlabel('distance to the nearest MRT station')\n",
        "plt.ylabel('price')\n",
        "plt.show()\n",
        "plt.scatter(dfX_train[3], dfY_train[0])\n",
        "plt.xlabel('number of convenience stores')\n",
        "plt.ylabel('price')\n",
        "plt.show()\n",
        "plt.scatter(dfX_train[4], dfY_train[0])\n",
        "plt.xlabel('latitude')\n",
        "plt.ylabel('price')\n",
        "plt.show()\n",
        "plt.scatter(dfX_train[5], dfY_train[0])\n",
        "plt.xlabel('longitude')\n",
        "plt.ylabel('price')\n",
        "plt.show()"
      ],
      "metadata": {
        "id": "9z-UPL_AWcu0"
      },
      "execution_count": null,
      "outputs": []
    },
    {
      "cell_type": "code",
      "source": [
        "f = plt.figure(figsize=(19, 15))\n",
        "plt.matshow(df_train.corr(), fignum=f.number)\n",
        "plt.xticks(range(df_train.select_dtypes(['number']).shape[1]), df_train.select_dtypes(['number']).columns, fontsize=14, rotation=45)\n",
        "plt.yticks(range(df_train.select_dtypes(['number']).shape[1]), df_train.select_dtypes(['number']).columns, fontsize=14)\n",
        "cb = plt.colorbar()\n",
        "cb.ax.tick_params(labelsize=14)\n",
        "plt.title('Correlation Matrix', fontsize=16);"
      ],
      "metadata": {
        "id": "5hVPVNMucR6P"
      },
      "execution_count": null,
      "outputs": []
    },
    {
      "cell_type": "markdown",
      "source": [
        "# Evaluation"
      ],
      "metadata": {
        "id": "J0JJ1cyS0tvY"
      }
    },
    {
      "cell_type": "code",
      "source": [
        "def my_mean_squared_error(act, pred):\n",
        "   differences_squared = (pred - act) ** 2\n",
        "   mean_diff = differences_squared.mean()\n",
        "\n",
        "   return mean_diff\n",
        "\n",
        "def root_mean_squared_error(act, pred):\n",
        "   differences_squared = (pred - act) ** 2\n",
        "   mean_diff = differences_squared.mean()\n",
        "   rmse_val = np.sqrt(mean_diff)\n",
        "\n",
        "   return rmse_val\n",
        "\n",
        "def my_mean_absolute_error(act, pred):\n",
        "    abs_diff = np.absolute(pred - act)\n",
        "    mean_diff = abs_diff.mean()\n",
        "\n",
        "    return mean_diff\n",
        "\n",
        "\n",
        "print(my_mean_squared_error(np_predict, y_test))\n",
        "print(root_mean_squared_error(np_predict, y_test))\n",
        "print(my_mean_absolute_error(np_predict, y_test))"
      ],
      "metadata": {
        "colab": {
          "base_uri": "https://localhost:8080/"
        },
        "id": "6KTxk289z695",
        "outputId": "77388845-bc9d-453e-8006-0b246c3a49b4"
      },
      "execution_count": 11,
      "outputs": [
        {
          "output_type": "stream",
          "name": "stdout",
          "text": [
            "73.56837932850163\n",
            "8.577201136064236\n",
            "6.18483634009769\n"
          ]
        }
      ]
    }
  ]
}